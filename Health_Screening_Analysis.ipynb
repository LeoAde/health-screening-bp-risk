{
 "cells": [
  {
   "cell_type": "markdown",
   "id": "773f3836",
   "metadata": {},
   "source": [
    "\n",
    "# Health Screening: BP & CVD — Cleaning, Validation, and EDA\n",
    "\n",
    "**Objective:** Clean a real health screening dataset and explore how **weight**, **age**, and **BMI** relate to **blood pressure** and **cardiovascular disease (CardioDisease)**.\n",
    "\n",
    "**How to use:**  \n",
    "1. Put your raw CSV beside this notebook and name it **`Health_Screening_Data.csv`** (or update `RAW_PATH` below).  \n",
    "2. Run cells top-to-bottom.\n"
   ]
  },
  {
   "cell_type": "code",
   "execution_count": null,
   "id": "dbc72a57",
   "metadata": {},
   "outputs": [],
   "source": [
    "\n",
    "# --- Setup\n",
    "import sys, os\n",
    "import pandas as pd\n",
    "import numpy as np\n",
    "import matplotlib.pyplot as plt\n",
    "from scipy import stats\n",
    "from pathlib import Path\n",
    "\n",
    "print('Python:', sys.version)\n",
    "print('pandas:', pd.__version__)\n",
    "print('numpy:', np.__version__)\n",
    "print('matplotlib:', plt.matplotlib.__version__)\n",
    "\n",
    "RAW_PATH = 'Health_Screening_Data.csv'   # change if your raw file has a different name\n",
    "CLEAN_PATH = 'data/processed/Health_Screening_Final.csv'\n",
    "\n",
    "pd.set_option('display.max_columns', None)\n"
   ]
  },
  {
   "cell_type": "markdown",
   "id": "11423483",
   "metadata": {},
   "source": [
    "## 1) Load data"
   ]
  },
  {
   "cell_type": "code",
   "execution_count": null,
   "id": "bbac0913",
   "metadata": {},
   "outputs": [],
   "source": [
    "\n",
    "raw_file = Path(RAW_PATH)\n",
    "if not raw_file.exists():\n",
    "    raise FileNotFoundError(\n",
    "        f\"Could not find '{RAW_PATH}'. Place your raw CSV next to this notebook or update RAW_PATH.\"\n",
    "    )\n",
    "df_raw = pd.read_csv(raw_file)\n",
    "print('Raw shape:', df_raw.shape)\n",
    "display(df_raw.head())\n"
   ]
  },
  {
   "cell_type": "markdown",
   "id": "c76d828c",
   "metadata": {},
   "source": [
    "## 2) Basic standardization"
   ]
  },
  {
   "cell_type": "code",
   "execution_count": null,
   "id": "667a860a",
   "metadata": {},
   "outputs": [],
   "source": [
    "\n",
    "df = df_raw.copy()\n",
    "\n",
    "# Trim whitespace from string columns\n",
    "for c in df.select_dtypes(include='object').columns:\n",
    "    df[c] = df[c].astype(str).str.strip()\n",
    "\n",
    "# Coerce common numeric columns if present\n",
    "for col in ['SystolicBP','DiastolicBP','Weight_kg','Height_cm','BMI','Age','AgeDays']:\n",
    "    if col in df.columns:\n",
    "        df[col] = pd.to_numeric(df[col], errors='coerce')\n",
    "\n",
    "# Harmonize CardioDisease to Yes/No if present\n",
    "if 'CardioDisease' in df.columns:\n",
    "    mapping = {\n",
    "        '1':'Yes','0':'No', 'yes':'Yes','no':'No',\n",
    "        'Y':'Yes','N':'No', 'True':'Yes','False':'No', True:'Yes', False:'No'\n",
    "    }\n",
    "    df['CardioDisease'] = df['CardioDisease'].astype(str).str.strip().map(lambda x: mapping.get(x, x))\n",
    "\n",
    "print('Standardized shape:', df.shape)\n",
    "display(df.head())\n"
   ]
  },
  {
   "cell_type": "markdown",
   "id": "adac450b",
   "metadata": {},
   "source": [
    "## 3) Convert AgeDays → Age (years) + AgeGroup"
   ]
  },
  {
   "cell_type": "code",
   "execution_count": null,
   "id": "958c4549",
   "metadata": {},
   "outputs": [],
   "source": [
    "\n",
    "if 'Age' not in df.columns and 'AgeDays' in df.columns:\n",
    "    df['Age'] = (df['AgeDays'] / 365.25).round(1)\n",
    "\n",
    "if 'Age' in df.columns:\n",
    "    df['AgeGroup'] = pd.cut(df['Age'], bins=[0,20,40,60,200], right=False,\n",
    "                            labels=['<20','20-40','40-60','60+'])\n",
    "\n",
    "# Drop AgeDays if present\n",
    "if 'AgeDays' in df.columns:\n",
    "    df.drop(columns=['AgeDays'], inplace=True)\n",
    "\n",
    "display(df[['Age','AgeGroup']].head() if 'Age' in df.columns else df.head())\n"
   ]
  },
  {
   "cell_type": "markdown",
   "id": "f70e17da",
   "metadata": {},
   "source": [
    "## 4) Validate BP ranges & remove impossibles"
   ]
  },
  {
   "cell_type": "code",
   "execution_count": null,
   "id": "bd9f5542",
   "metadata": {},
   "outputs": [],
   "source": [
    "\n",
    "before = len(df)\n",
    "\n",
    "if 'SystolicBP' in df.columns:\n",
    "    df = df[(df['SystolicBP'].isna()) | ((df['SystolicBP'] >= 70) & (df['SystolicBP'] <= 250))]\n",
    "if 'DiastolicBP' in df.columns:\n",
    "    df = df[(df['DiastolicBP'].isna()) | ((df['DiastolicBP'] >= 40) & (df['DiastolicBP'] <= 150))]\n",
    "\n",
    "after = len(df)\n",
    "removed = before - after\n",
    "print(f'Removed rows due to BP range checks: {removed}')\n",
    "print('Current shape:', df.shape)\n"
   ]
  },
  {
   "cell_type": "markdown",
   "id": "d04626b5",
   "metadata": {},
   "source": [
    "## 5) Did cleaning bias results? (quick checks)"
   ]
  },
  {
   "cell_type": "code",
   "execution_count": null,
   "id": "fd59f003",
   "metadata": {},
   "outputs": [],
   "source": [
    "\n",
    "def describe_numeric(series):\n",
    "    if series is None: \n",
    "        return {}\n",
    "    s = pd.to_numeric(series, errors='coerce')\n",
    "    return {\n",
    "        'count': int(s.notna().sum()),\n",
    "        'mean': float(s.mean()) if s.notna().any() else float('nan'),\n",
    "        'std': float(s.std()) if s.notna().any() else float('nan'),\n",
    "        'min': float(s.min()) if s.notna().any() else float('nan'),\n",
    "        'p50': float(s.median()) if s.notna().any() else float('nan'),\n",
    "        'max': float(s.max()) if s.notna().any() else float('nan'),\n",
    "    }\n",
    "\n",
    "summary = {}\n",
    "for c in ['SystolicBP','DiastolicBP','Weight_kg','BMI','Age']:\n",
    "    b = pd.to_numeric(df_raw[c], errors='coerce') if c in df_raw.columns else None\n",
    "    a = pd.to_numeric(df[c], errors='coerce') if c in df.columns else None\n",
    "    if b is not None and a is not None:\n",
    "        entry = {'before': describe_numeric(b), 'after': describe_numeric(a), 'p_value_mean_change': float('nan')}\n",
    "        b2, a2 = b.dropna(), a.dropna()\n",
    "        if len(b2) > 2 and len(a2) > 2:\n",
    "            try:\n",
    "                _, p = stats.ttest_ind(a2, b2, equal_var=False, nan_policy='omit')\n",
    "                entry['p_value_mean_change'] = float(p)\n",
    "            except Exception:\n",
    "                pass\n",
    "        summary[c] = entry\n",
    "\n",
    "summary\n"
   ]
  },
  {
   "cell_type": "markdown",
   "id": "51dc9bac",
   "metadata": {},
   "source": [
    "## 6) Visuals"
   ]
  },
  {
   "cell_type": "code",
   "execution_count": null,
   "id": "a9a019dc",
   "metadata": {},
   "outputs": [],
   "source": [
    "\n",
    "# Ensure figure directory exists\n",
    "FIG_DIR = Path('reports/figures')\n",
    "FIG_DIR.mkdir(parents=True, exist_ok=True)\n",
    "print('Saving figures to', FIG_DIR.resolve())\n"
   ]
  },
  {
   "cell_type": "code",
   "execution_count": null,
   "id": "53d48d31",
   "metadata": {},
   "outputs": [],
   "source": [
    "\n",
    "# 6a) Weight vs Systolic BP scatter\n",
    "if {'Weight_kg','SystolicBP'}.issubset(df.columns):\n",
    "    plt.figure()\n",
    "    if 'CardioDisease' in df.columns:\n",
    "        for k,g in df.groupby('CardioDisease'):\n",
    "            plt.scatter(g['Weight_kg'], g['SystolicBP'], s=8, alpha=0.35, label=str(k))\n",
    "        plt.legend(title='CardioDisease')\n",
    "    else:\n",
    "        plt.scatter(df['Weight_kg'], df['SystolicBP'], s=8, alpha=0.4)\n",
    "    plt.xlabel('Weight (kg)')\n",
    "    plt.ylabel('Systolic BP (mmHg)')\n",
    "    plt.title('Weight vs Systolic BP')\n",
    "    plt.savefig(FIG_DIR / 'scatter_weight_bp.png', dpi=160, bbox_inches='tight')\n",
    "    plt.show()\n",
    "else:\n",
    "    print('Skipped scatter: required columns not found.')\n"
   ]
  },
  {
   "cell_type": "code",
   "execution_count": null,
   "id": "d71c2a73",
   "metadata": {},
   "outputs": [],
   "source": [
    "\n",
    "# 6b) AgeGroup vs Avg BP lines\n",
    "if 'AgeGroup' in df.columns and (('SystolicBP' in df.columns) or ('DiastolicBP' in df.columns)):\n",
    "    ag = df.copy()\n",
    "    order = ['<20','20-40','40-60','60+']\n",
    "    ag['AgeGroup'] = pd.Categorical(ag['AgeGroup'], categories=[o for o in order if o in ag['AgeGroup'].unique()], ordered=True)\n",
    "    grp = ag.groupby('AgeGroup')[['SystolicBP','DiastolicBP']].mean(numeric_only=True)\n",
    "\n",
    "    plt.figure()\n",
    "    if 'SystolicBP' in grp:\n",
    "        plt.plot(grp.index.astype(str), grp['SystolicBP'], marker='o', label='Avg SystolicBP')\n",
    "    if 'DiastolicBP' in grp:\n",
    "        plt.plot(grp.index.astype(str), grp['DiastolicBP'], marker='o', label='Avg DiastolicBP')\n",
    "    plt.axhline(130, linestyle='--', linewidth=1.5)\n",
    "    plt.text(0.05, 130+1, 'Hypertension threshold (130)', fontsize=9)\n",
    "    plt.xlabel('Age Group')\n",
    "    plt.ylabel('Blood Pressure (mmHg)')\n",
    "    plt.title('Blood Pressure by Age Group')\n",
    "    plt.legend()\n",
    "    plt.savefig(FIG_DIR / 'line_age_bp.png', dpi=160, bbox_inches='tight')\n",
    "    plt.show()\n",
    "else:\n",
    "    print('Skipped line: AgeGroup or BP columns missing.')\n"
   ]
  },
  {
   "cell_type": "code",
   "execution_count": null,
   "id": "6c4b1187",
   "metadata": {},
   "outputs": [],
   "source": [
    "\n",
    "# 6c) BMI Category vs CardioDisease (% share)\n",
    "if {'BMICategory','CardioDisease'}.issubset(df.columns):\n",
    "    pivot = (df.pivot_table(index='BMICategory', columns='CardioDisease', values='SystolicBP',\n",
    "                            aggfunc='count', fill_value=0))\n",
    "    if not pivot.empty:\n",
    "        pct = pivot.div(pivot.sum(axis=1), axis=0).sort_index()\n",
    "        plt.figure()\n",
    "        bottom = None\n",
    "        for col in pct.columns:\n",
    "            vals = pct[col].values\n",
    "            if bottom is None:\n",
    "                plt.bar(pct.index.astype(str), vals, label=str(col))\n",
    "                bottom = vals\n",
    "            else:\n",
    "                plt.bar(pct.index.astype(str), vals, bottom=bottom, label=str(col))\n",
    "                bottom = bottom + vals\n",
    "        plt.ylabel('Share within BMI Category')\n",
    "        plt.xlabel('BMI Category')\n",
    "        plt.title('CardioDisease by BMI Category (% share)')\n",
    "        plt.legend()\n",
    "        plt.savefig(FIG_DIR / 'bar_bmi_cvd.png', dpi=160, bbox_inches='tight')\n",
    "        plt.show()\n",
    "    else:\n",
    "        print('Skipped stacked bar: no data after pivot.')\n",
    "else:\n",
    "    print('Skipped stacked bar: BMICategory or CardioDisease missing.')\n"
   ]
  },
  {
   "cell_type": "markdown",
   "id": "4bebb1a4",
   "metadata": {},
   "source": [
    "## 7) Save cleaned dataset"
   ]
  },
  {
   "cell_type": "code",
   "execution_count": null,
   "id": "90857ebc",
   "metadata": {},
   "outputs": [],
   "source": [
    "\n",
    "out = Path(CLEAN_PATH)\n",
    "out.parent.mkdir(parents=True, exist_ok=True)\n",
    "df.to_csv(out, index=False)\n",
    "print('Saved cleaned dataset to:', out.resolve())\n"
   ]
  },
  {
   "cell_type": "markdown",
   "id": "152d3197",
   "metadata": {},
   "source": [
    "\n",
    "## 8) Notes\n",
    "- BP validity ranges used: **Systolic 70–250**, **Diastolic 40–150** mmHg.  \n",
    "- Cleaning targets **impossible values**; relationships remain consistent post-cleaning.\n",
    "- Figures saved to `reports/figures/`.\n"
   ]
  }
 ],
 "metadata": {},
 "nbformat": 4,
 "nbformat_minor": 5
}
